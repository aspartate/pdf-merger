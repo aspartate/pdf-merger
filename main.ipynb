{
 "cells": [
  {
   "cell_type": "code",
   "execution_count": 4,
   "metadata": {},
   "outputs": [],
   "source": [
    "import PyPDF2"
   ]
  },
  {
   "cell_type": "code",
   "execution_count": 8,
   "metadata": {},
   "outputs": [],
   "source": [
    "# Adapted from https://github.com/mstamy2/PyPDF2/issues/183\n",
    "\n",
    "# List of files to merge\n",
    "files = ['text.pdf', 'figures.pdf', 'text.pdf']\n",
    "\n",
    "# Lists of pages to merge\n",
    "file1_pages = range(59)\n",
    "file2_pages = range(18)\n",
    "file3_pages = range(77, 84)\n",
    "\n",
    "pages = [file1_pages, file2_pages, file3_pages]\n",
    "\n",
    "# Initialize PDF write object\n",
    "pdfWriter = PyPDF2.PdfFileWriter()\n",
    "\n",
    "# Loop through all PDFs\n",
    "for i, filename in enumerate(files):\n",
    "    \n",
    "    # Open PDF file\n",
    "    pdfFileObj = open(filename, 'rb') # rb for read binary\n",
    "    pdfReader = PyPDF2.PdfFileReader(pdfFileObj)\n",
    "\n",
    "    # Open each page of PDF and append to writer\n",
    "    for pageNum in pages[i]:\n",
    "        pageObj = pdfReader.getPage(pageNum)\n",
    "        pdfWriter.addPage(pageObj)\n",
    "        \n",
    "# save PDF to file, wb for write binary\n",
    "pdfOutput = open('result.pdf', 'wb')\n",
    "# Outputting the PDF\n",
    "pdfWriter.write(pdfOutput)\n",
    "# Closing the PDF writer\n",
    "pdfOutput.close()"
   ]
  }
 ],
 "metadata": {
  "interpreter": {
   "hash": "a3620fbd920317ceb600295e6fd26fac2d193c7fd59cab4df3f05b8db2025c24"
  },
  "kernelspec": {
   "display_name": "Python 3.8.8 ('_merge_env': venv)",
   "language": "python",
   "name": "python3"
  },
  "language_info": {
   "codemirror_mode": {
    "name": "ipython",
    "version": 3
   },
   "file_extension": ".py",
   "mimetype": "text/x-python",
   "name": "python",
   "nbconvert_exporter": "python",
   "pygments_lexer": "ipython3",
   "version": "3.8.8"
  },
  "orig_nbformat": 4
 },
 "nbformat": 4,
 "nbformat_minor": 2
}
